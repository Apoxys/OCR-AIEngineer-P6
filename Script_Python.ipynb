{
 "cells": [
  {
   "cell_type": "markdown",
   "id": "8d60a82e-4085-431f-b299-f7a6e2d269e5",
   "metadata": {},
   "source": [
    "# Retrieval of products from API\n"
   ]
  },
  {
   "cell_type": "code",
   "execution_count": 154,
   "id": "4fd018c4-b683-4ca8-acf5-26cb395f4309",
   "metadata": {},
   "outputs": [],
   "source": [
    "# librairies \n",
    "\n",
    "import requests\n",
    "import pandas as pd\n",
    "from pathlib import Path"
   ]
  },
  {
   "cell_type": "code",
   "execution_count": 144,
   "id": "a2ee1fce-20ee-40aa-a52e-cceaa5b74d88",
   "metadata": {},
   "outputs": [],
   "source": [
    "# Champagne retrieval\n",
    "\n",
    "api_url = \"https://api.edamam.com/api/food-database/v2/parser\"\n",
    "\n",
    "# Edamam API credentials\n",
    "app_id = '770e6183'\n",
    "app_key = '8b3df4aa42bdd58753a25e82e9e5b448'\n",
    "\n",
    "# Parameters\n",
    "params = {\n",
    "    'app_id': app_id,\n",
    "    'app_key': app_key,\n",
    "    'ingr': 'champagne'\n",
    "}\n",
    "\n",
    "response = requests.get(api_url, params=params)\n",
    "data_champagne = []\n",
    "\n",
    "# Check if request successful\n",
    "if response.status_code == 200:\n",
    "    # Parse the JSON response\n",
    "    champagnes = response.json()\n",
    "\n",
    "    # Display the champagnes\n",
    "    for i, food in enumerate(champagnes['hints']):\n",
    "        food_info = champagnes['hints'][i]['food']\n",
    "        foodId = food_info.get('foodId')\n",
    "        label = food_info.get('label')\n",
    "        category = food_info.get('category')\n",
    "        foodContentsLabel = food_info.get('foodContentsLabel')\n",
    "        image = food_info.get('image')\n",
    "        #print(foodId, '\\n', label, '\\n', category, '\\n', foodContentsLabel, '\\n', image, '\\n', '_______________')\n",
    "        data_champagne.append([foodId, label, category, foodContentsLabel, image])\n",
    "else:\n",
    "    print(f\"Failed to retrieve recipes. Status code: {response.status_code}\")\n",
    "    print(\"Response content:\", response.text)\n",
    "    print(\"Request URL:\", response.url)\n"
   ]
  },
  {
   "cell_type": "code",
   "execution_count": 157,
   "id": "c273f775-b51f-478d-a512-a9989d5a155c",
   "metadata": {},
   "outputs": [],
   "source": [
    "data_champagne = pd.DataFrame(data_champagne, columns = ['food_Id', 'label', 'category', 'foodContentsLabel', 'image']).head(10)\n",
    "filepath = Path('data/data_champagne.csv') \n",
    "data_champagne.to_csv(filepath, index=False)"
   ]
  }
 ],
 "metadata": {
  "kernelspec": {
   "display_name": "Python 3 (ipykernel)",
   "language": "python",
   "name": "python3"
  },
  "language_info": {
   "codemirror_mode": {
    "name": "ipython",
    "version": 3
   },
   "file_extension": ".py",
   "mimetype": "text/x-python",
   "name": "python",
   "nbconvert_exporter": "python",
   "pygments_lexer": "ipython3",
   "version": "3.11.5"
  }
 },
 "nbformat": 4,
 "nbformat_minor": 5
}
