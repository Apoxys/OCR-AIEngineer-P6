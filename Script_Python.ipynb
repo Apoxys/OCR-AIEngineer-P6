{
 "cells": [
  {
   "cell_type": "markdown",
   "id": "8d60a82e-4085-431f-b299-f7a6e2d269e5",
   "metadata": {},
   "source": [
    "# Retrieval of products from API\n"
   ]
  },
  {
   "cell_type": "markdown",
   "id": "863d07c4-3926-4325-bd1c-9f1988564c19",
   "metadata": {},
   "source": [
    "**GDPR DISCLAIMER** \\\n",
    "The following work is not related to GDPR. To demonstrate, we will take all  major points and justify that our work is not concerned.\n",
    "\n",
    "\n",
    "- **Only collect truly useful data to achieve objectives** \\\n",
    "Our working dataset does not contain any personnal data of any kind, only data related to food or drinks, which we need to work on NutriScore.\n",
    "- **Be transparent** \\\n",
    "This code is for everyone to see, and sources are cited accordingly\n",
    "- **Organize and ease people's rights usage** \\\n",
    "No personnal data is used, making this article irrelevant for the present work\n",
    "- **Establish conservation duration** \\\n",
    "The dataset used will be used actively for a maximum of one or two months, after which the current project should be finished. Dataset will then be archived.\n",
    "- **Secure data and identify risks** \\\n",
    "This project is led locally, and as such has little to no risk of outside exposure. Moreover, containing no personnal data, an eventual malevolent action would only lead to a delay in the project, and no threat potential could be gained by such an action.\n",
    "- **Compliance as a continuous process** \\\n",
    "Once this project is finished, it will be presented and then archived. As such, the dataset compliance will not be relevant anymore.\n",
    "\n",
    "We hope that this convinced you that this project is not in any way linked to the GDPR rules. If not, we look forward to read you remarks at this email adress:\\\n",
    "kanamojo@hotmail.fr\n",
    "\n",
    "Source: https://www.cnil.fr/fr/comprendre-le-rgpd/les-six-grands-principes-du-rgpd"
   ]
  },
  {
   "cell_type": "code",
   "execution_count": 154,
   "id": "4fd018c4-b683-4ca8-acf5-26cb395f4309",
   "metadata": {},
   "outputs": [],
   "source": [
    "# librairies \n",
    "\n",
    "import requests\n",
    "import pandas as pd\n",
    "from pathlib import Path"
   ]
  },
  {
   "cell_type": "code",
   "execution_count": 144,
   "id": "a2ee1fce-20ee-40aa-a52e-cceaa5b74d88",
   "metadata": {},
   "outputs": [],
   "source": [
    "# Champagne retrieval\n",
    "\n",
    "api_url = \"https://api.edamam.com/api/food-database/v2/parser\"\n",
    "\n",
    "# Edamam API credentials\n",
    "app_id = '770e6183'\n",
    "app_key = '8b3df4aa42bdd58753a25e82e9e5b448'\n",
    "\n",
    "# Parameters\n",
    "params = {\n",
    "    'app_id': app_id,\n",
    "    'app_key': app_key,\n",
    "    'ingr': 'champagne'\n",
    "}\n",
    "\n",
    "response = requests.get(api_url, params=params)\n",
    "data_champagne = []\n",
    "\n",
    "# Check if request successful\n",
    "if response.status_code == 200:\n",
    "    # Parse the JSON response\n",
    "    champagnes = response.json()\n",
    "\n",
    "    # Display the champagnes\n",
    "    for i, food in enumerate(champagnes['hints']):\n",
    "        food_info = champagnes['hints'][i]['food']\n",
    "        foodId = food_info.get('foodId')\n",
    "        label = food_info.get('label')\n",
    "        category = food_info.get('category')\n",
    "        foodContentsLabel = food_info.get('foodContentsLabel')\n",
    "        image = food_info.get('image')\n",
    "        #print(foodId, '\\n', label, '\\n', category, '\\n', foodContentsLabel, '\\n', image, '\\n', '_______________')\n",
    "        data_champagne.append([foodId, label, category, foodContentsLabel, image])\n",
    "else:\n",
    "    print(f\"Failed to retrieve recipes. Status code: {response.status_code}\")\n",
    "    print(\"Response content:\", response.text)\n",
    "    print(\"Request URL:\", response.url)\n"
   ]
  },
  {
   "cell_type": "code",
   "execution_count": 157,
   "id": "c273f775-b51f-478d-a512-a9989d5a155c",
   "metadata": {},
   "outputs": [],
   "source": [
    "data_champagne = pd.DataFrame(data_champagne, columns = ['food_Id', 'label', 'category', 'foodContentsLabel', 'image']).head(10)\n",
    "filepath = Path('data/data_champagne.csv') \n",
    "data_champagne.to_csv(filepath, index=False)"
   ]
  }
 ],
 "metadata": {
  "kernelspec": {
   "display_name": "Python 3 (ipykernel)",
   "language": "python",
   "name": "python3"
  },
  "language_info": {
   "codemirror_mode": {
    "name": "ipython",
    "version": 3
   },
   "file_extension": ".py",
   "mimetype": "text/x-python",
   "name": "python",
   "nbconvert_exporter": "python",
   "pygments_lexer": "ipython3",
   "version": "3.11.5"
  }
 },
 "nbformat": 4,
 "nbformat_minor": 5
}
