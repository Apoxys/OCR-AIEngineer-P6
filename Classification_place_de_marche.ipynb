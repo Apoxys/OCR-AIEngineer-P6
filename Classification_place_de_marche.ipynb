{
 "cells": [
  {
   "cell_type": "markdown",
   "id": "74d6b90f-e06b-4dbc-82a4-9896a4a5bc05",
   "metadata": {},
   "source": [
    "# Classification for place de marché : TransferLearning using VGG16 model"
   ]
  },
  {
   "cell_type": "markdown",
   "id": "5b0894a1-91e8-43b9-a70a-e6dff9d4a0ff",
   "metadata": {},
   "source": [
    "Now the feasability is established, we will continue to supervised classification\n",
    "\n",
    "We will : \n",
    "- Split our data set\n",
    "- Augment our data\n",
    "- Train our model\n",
    "- Predict our classes"
   ]
  },
  {
   "cell_type": "code",
   "execution_count": 4,
   "id": "7703c6f0-d5c3-4199-bb7f-4b8145147fea",
   "metadata": {},
   "outputs": [],
   "source": [
    "# classic Librairies\n",
    "import numpy as np\n",
    "import pandas as pd\n",
    "import matplotlib.pyplot as plt\n",
    "import seaborn as sns\n",
    "import time\n",
    "import os\n",
    "import shutil\n",
    "\n",
    "\n",
    "from sklearn.decomposition import PCA\n",
    "from sklearn.manifold import TSNE\n",
    "\n",
    "from sklearn import cluster\n",
    "from sklearn.model_selection import train_test_split\n",
    "from sklearn.cluster import KMeans\n",
    "\n",
    "from sklearn.metrics.cluster import adjusted_rand_score\n",
    "\n",
    "from sklearn.model_selection import StratifiedShuffleSplit\n",
    "\n",
    "# librairies for NLP\n",
    "import tensorflow as tf\n",
    "from tensorflow import keras\n",
    "import tensorflow.keras\n",
    "from tensorflow.keras import backend as K\n",
    "\n",
    "from tensorflow.keras import metrics as kmetrics\n",
    "from tensorflow.keras import layers,callbacks\n",
    "from tensorflow.keras.layers import *\n",
    "from tensorflow.keras.models import Model\n",
    "from tensorflow.keras.utils import image_dataset_from_directory,plot_model\n",
    "from tensorflow.keras.applications.vgg16 import VGG16\n",
    "import keras_tuner\n",
    "\n",
    "# image imports\n",
    "from matplotlib.image import imread\n",
    "import PIL\n",
    "from PIL import Image, ImageFilter, ImageEnhance\n",
    "\n",
    "import cv2"
   ]
  },
  {
   "cell_type": "code",
   "execution_count": 6,
   "id": "d3fe68e1-46bf-4c98-9919-b3b6ea09a76c",
   "metadata": {},
   "outputs": [
    {
     "data": {
      "text/html": [
       "<div>\n",
       "<style scoped>\n",
       "    .dataframe tbody tr th:only-of-type {\n",
       "        vertical-align: middle;\n",
       "    }\n",
       "\n",
       "    .dataframe tbody tr th {\n",
       "        vertical-align: top;\n",
       "    }\n",
       "\n",
       "    .dataframe thead th {\n",
       "        text-align: right;\n",
       "    }\n",
       "</style>\n",
       "<table border=\"1\" class=\"dataframe\">\n",
       "  <thead>\n",
       "    <tr style=\"text-align: right;\">\n",
       "      <th></th>\n",
       "      <th>image</th>\n",
       "      <th>category</th>\n",
       "      <th>img_path</th>\n",
       "    </tr>\n",
       "  </thead>\n",
       "  <tbody>\n",
       "    <tr>\n",
       "      <th>0</th>\n",
       "      <td>55b85ea15a1536d46b7190ad6fff8ce7.jpg</td>\n",
       "      <td>Home Furnishing</td>\n",
       "      <td>data/Images/55b85ea15a1536d46b7190ad6fff8ce7.jpg</td>\n",
       "    </tr>\n",
       "    <tr>\n",
       "      <th>1</th>\n",
       "      <td>7b72c92c2f6c40268628ec5f14c6d590.jpg</td>\n",
       "      <td>Baby Care</td>\n",
       "      <td>data/Images/7b72c92c2f6c40268628ec5f14c6d590.jpg</td>\n",
       "    </tr>\n",
       "    <tr>\n",
       "      <th>2</th>\n",
       "      <td>64d5d4a258243731dc7bbb1eef49ad74.jpg</td>\n",
       "      <td>Baby Care</td>\n",
       "      <td>data/Images/64d5d4a258243731dc7bbb1eef49ad74.jpg</td>\n",
       "    </tr>\n",
       "    <tr>\n",
       "      <th>3</th>\n",
       "      <td>d4684dcdc759dd9cdf41504698d737d8.jpg</td>\n",
       "      <td>Home Furnishing</td>\n",
       "      <td>data/Images/d4684dcdc759dd9cdf41504698d737d8.jpg</td>\n",
       "    </tr>\n",
       "    <tr>\n",
       "      <th>4</th>\n",
       "      <td>6325b6870c54cd47be6ebfbffa620ec7.jpg</td>\n",
       "      <td>Home Furnishing</td>\n",
       "      <td>data/Images/6325b6870c54cd47be6ebfbffa620ec7.jpg</td>\n",
       "    </tr>\n",
       "  </tbody>\n",
       "</table>\n",
       "</div>"
      ],
      "text/plain": [
       "                                  image         category  \\\n",
       "0  55b85ea15a1536d46b7190ad6fff8ce7.jpg  Home Furnishing   \n",
       "1  7b72c92c2f6c40268628ec5f14c6d590.jpg        Baby Care   \n",
       "2  64d5d4a258243731dc7bbb1eef49ad74.jpg        Baby Care   \n",
       "3  d4684dcdc759dd9cdf41504698d737d8.jpg  Home Furnishing   \n",
       "4  6325b6870c54cd47be6ebfbffa620ec7.jpg  Home Furnishing   \n",
       "\n",
       "                                           img_path  \n",
       "0  data/Images/55b85ea15a1536d46b7190ad6fff8ce7.jpg  \n",
       "1  data/Images/7b72c92c2f6c40268628ec5f14c6d590.jpg  \n",
       "2  data/Images/64d5d4a258243731dc7bbb1eef49ad74.jpg  \n",
       "3  data/Images/d4684dcdc759dd9cdf41504698d737d8.jpg  \n",
       "4  data/Images/6325b6870c54cd47be6ebfbffa620ec7.jpg  "
      ]
     },
     "execution_count": 6,
     "metadata": {},
     "output_type": "execute_result"
    }
   ],
   "source": [
    "# Using the dataset to prepare the subset \"data_img\"\n",
    "\n",
    "data = pd.read_csv(\"data/flipkart_com-ecommerce_sample_1050.csv\")\n",
    "data['general_category'] = data['product_category_tree'].map(lambda x: x.strip('[\"]').split(' >> ')[0])\n",
    "data_img = pd.DataFrame()\n",
    "data_img['image'] = data['image']\n",
    "data_img['category'] = data['general_category']\n",
    "data_img['img_path'] = [os.path.join('data/Images/', filename) for filename in data_img['image']]\n",
    "data_img.head()"
   ]
  },
  {
   "cell_type": "markdown",
   "id": "11c4b2d8-6b32-47fc-88fe-01d0b94a2747",
   "metadata": {},
   "source": [
    "We will split our data in train/test/val directories, and each of them will contain a directory according to the classes to be predicted"
   ]
  },
  {
   "cell_type": "code",
   "execution_count": 8,
   "id": "6db7e591-b45a-45c5-8967-7e57cb50f192",
   "metadata": {},
   "outputs": [],
   "source": [
    "#Liste of categories\n",
    "categories = data_img[\"category\"].unique().tolist()\n",
    "\n",
    "#Ratios\n",
    "train_ratio = 0.7\n",
    "val_ratio = 0.15\n",
    "test_ratio = 0.15\n",
    "\n",
    "# images paths\n",
    "image_dir = './data/Images/'\n",
    "\n",
    "# supervised directory \n",
    "supervised_dir = './data/Images_supervised/'\n",
    "\n",
    "# folders creation\n",
    "for category in categories:\n",
    "    os.makedirs(os.path.join(supervised_dir, 'train', category), exist_ok=True)\n",
    "    os.makedirs(os.path.join(supervised_dir, 'validation', category), exist_ok=True)\n",
    "    os.makedirs(os.path.join(supervised_dir, 'test', category), exist_ok=True)\n",
    "\n",
    "# paths to datasets\n",
    "train_dir = f'{supervised_dir}train'\n",
    "validation_dir = f'{supervised_dir}validation'\n",
    "test_dir = f'{supervised_dir}test'\n",
    "\n",
    "for category in categories:\n",
    "    # filter image by category\n",
    "    category_images = data_img[data_img['category'] == category]['image'].tolist()\n",
    "\n",
    "    # Divide between train, validation, and test\n",
    "    train_images, test_val_images = train_test_split(category_images, test_size=val_ratio + test_ratio, random_state=22)\n",
    "    val_images, test_images = train_test_split(test_val_images, test_size=test_ratio / (val_ratio + test_ratio), random_state=22)\n",
    "\n",
    "    # Move image to relevant folder\n",
    "    for img in train_images:\n",
    "        src = os.path.join(image_dir, img)\n",
    "        dst = os.path.join(supervised_dir, 'train', category, img)\n",
    "        shutil.copy(src, dst)\n",
    "\n",
    "    for img in val_images:\n",
    "        src = os.path.join(image_dir, img)\n",
    "        dst = os.path.join(supervised_dir, 'validation', category, img)\n",
    "        shutil.copy(src, dst)\n",
    "\n",
    "    for img in test_images:\n",
    "        src = os.path.join(image_dir, img)\n",
    "        dst = os.path.join(supervised_dir, 'test', category, img)\n",
    "        shutil.copy(src, dst)"
   ]
  },
  {
   "cell_type": "markdown",
   "id": "d3f48a29-3025-4f81-80a9-05b1ae2acd1a",
   "metadata": {},
   "source": [
    "### Model Creation\n",
    "\n",
    "Attention !\\\n",
    " Don't use ImageDataGenerator instead of keras.Sequential : better readability, can go back to original image"
   ]
  },
  {
   "cell_type": "code",
   "execution_count": 55,
   "id": "ae4baadf-14f6-4b81-a244-e205626c8c86",
   "metadata": {},
   "outputs": [
    {
     "name": "stderr",
     "output_type": "stream",
     "text": [
      "C:\\Users\\kanam\\anaconda3\\Lib\\site-packages\\keras\\src\\layers\\preprocessing\\tf_data_layer.py:19: UserWarning: Do not pass an `input_shape`/`input_dim` argument to a layer. When using Sequential models, prefer using an `Input(shape)` object as the first layer in the model instead.\n",
      "  super().__init__(**kwargs)\n"
     ]
    },
    {
     "data": {
      "text/html": [
       "<pre style=\"white-space:pre;overflow-x:auto;line-height:normal;font-family:Menlo,'DejaVu Sans Mono',consolas,'Courier New',monospace\"><span style=\"font-weight: bold\">Model: \"sequential_3\"</span>\n",
       "</pre>\n"
      ],
      "text/plain": [
       "\u001b[1mModel: \"sequential_3\"\u001b[0m\n"
      ]
     },
     "metadata": {},
     "output_type": "display_data"
    },
    {
     "data": {
      "text/html": [
       "<pre style=\"white-space:pre;overflow-x:auto;line-height:normal;font-family:Menlo,'DejaVu Sans Mono',consolas,'Courier New',monospace\">┏━━━━━━━━━━━━━━━━━━━━━━━━━━━━━━━━━━━━━━┳━━━━━━━━━━━━━━━━━━━━━━━━━━━━━┳━━━━━━━━━━━━━━━━━┓\n",
       "┃<span style=\"font-weight: bold\"> Layer (type)                         </span>┃<span style=\"font-weight: bold\"> Output Shape                </span>┃<span style=\"font-weight: bold\">         Param # </span>┃\n",
       "┡━━━━━━━━━━━━━━━━━━━━━━━━━━━━━━━━━━━━━━╇━━━━━━━━━━━━━━━━━━━━━━━━━━━━━╇━━━━━━━━━━━━━━━━━┩\n",
       "│ sequential_2 (<span style=\"color: #0087ff; text-decoration-color: #0087ff\">Sequential</span>)            │ (<span style=\"color: #00d7ff; text-decoration-color: #00d7ff\">None</span>, <span style=\"color: #00af00; text-decoration-color: #00af00\">224</span>, <span style=\"color: #00af00; text-decoration-color: #00af00\">224</span>, <span style=\"color: #00af00; text-decoration-color: #00af00\">3</span>)         │               <span style=\"color: #00af00; text-decoration-color: #00af00\">0</span> │\n",
       "├──────────────────────────────────────┼─────────────────────────────┼─────────────────┤\n",
       "│ vgg16 (<span style=\"color: #0087ff; text-decoration-color: #0087ff\">Functional</span>)                   │ (<span style=\"color: #00d7ff; text-decoration-color: #00d7ff\">None</span>, <span style=\"color: #00af00; text-decoration-color: #00af00\">7</span>, <span style=\"color: #00af00; text-decoration-color: #00af00\">7</span>, <span style=\"color: #00af00; text-decoration-color: #00af00\">512</span>)           │      <span style=\"color: #00af00; text-decoration-color: #00af00\">14,714,688</span> │\n",
       "├──────────────────────────────────────┼─────────────────────────────┼─────────────────┤\n",
       "│ global_average_pooling2d_1           │ (<span style=\"color: #00d7ff; text-decoration-color: #00d7ff\">None</span>, <span style=\"color: #00af00; text-decoration-color: #00af00\">512</span>)                 │               <span style=\"color: #00af00; text-decoration-color: #00af00\">0</span> │\n",
       "│ (<span style=\"color: #0087ff; text-decoration-color: #0087ff\">GlobalAveragePooling2D</span>)             │                             │                 │\n",
       "├──────────────────────────────────────┼─────────────────────────────┼─────────────────┤\n",
       "│ dense_2 (<span style=\"color: #0087ff; text-decoration-color: #0087ff\">Dense</span>)                      │ (<span style=\"color: #00d7ff; text-decoration-color: #00d7ff\">None</span>, <span style=\"color: #00af00; text-decoration-color: #00af00\">256</span>)                 │         <span style=\"color: #00af00; text-decoration-color: #00af00\">131,328</span> │\n",
       "├──────────────────────────────────────┼─────────────────────────────┼─────────────────┤\n",
       "│ dense_3 (<span style=\"color: #0087ff; text-decoration-color: #0087ff\">Dense</span>)                      │ (<span style=\"color: #00d7ff; text-decoration-color: #00d7ff\">None</span>, <span style=\"color: #00af00; text-decoration-color: #00af00\">7</span>)                   │           <span style=\"color: #00af00; text-decoration-color: #00af00\">1,799</span> │\n",
       "└──────────────────────────────────────┴─────────────────────────────┴─────────────────┘\n",
       "</pre>\n"
      ],
      "text/plain": [
       "┏━━━━━━━━━━━━━━━━━━━━━━━━━━━━━━━━━━━━━━┳━━━━━━━━━━━━━━━━━━━━━━━━━━━━━┳━━━━━━━━━━━━━━━━━┓\n",
       "┃\u001b[1m \u001b[0m\u001b[1mLayer (type)                        \u001b[0m\u001b[1m \u001b[0m┃\u001b[1m \u001b[0m\u001b[1mOutput Shape               \u001b[0m\u001b[1m \u001b[0m┃\u001b[1m \u001b[0m\u001b[1m        Param #\u001b[0m\u001b[1m \u001b[0m┃\n",
       "┡━━━━━━━━━━━━━━━━━━━━━━━━━━━━━━━━━━━━━━╇━━━━━━━━━━━━━━━━━━━━━━━━━━━━━╇━━━━━━━━━━━━━━━━━┩\n",
       "│ sequential_2 (\u001b[38;5;33mSequential\u001b[0m)            │ (\u001b[38;5;45mNone\u001b[0m, \u001b[38;5;34m224\u001b[0m, \u001b[38;5;34m224\u001b[0m, \u001b[38;5;34m3\u001b[0m)         │               \u001b[38;5;34m0\u001b[0m │\n",
       "├──────────────────────────────────────┼─────────────────────────────┼─────────────────┤\n",
       "│ vgg16 (\u001b[38;5;33mFunctional\u001b[0m)                   │ (\u001b[38;5;45mNone\u001b[0m, \u001b[38;5;34m7\u001b[0m, \u001b[38;5;34m7\u001b[0m, \u001b[38;5;34m512\u001b[0m)           │      \u001b[38;5;34m14,714,688\u001b[0m │\n",
       "├──────────────────────────────────────┼─────────────────────────────┼─────────────────┤\n",
       "│ global_average_pooling2d_1           │ (\u001b[38;5;45mNone\u001b[0m, \u001b[38;5;34m512\u001b[0m)                 │               \u001b[38;5;34m0\u001b[0m │\n",
       "│ (\u001b[38;5;33mGlobalAveragePooling2D\u001b[0m)             │                             │                 │\n",
       "├──────────────────────────────────────┼─────────────────────────────┼─────────────────┤\n",
       "│ dense_2 (\u001b[38;5;33mDense\u001b[0m)                      │ (\u001b[38;5;45mNone\u001b[0m, \u001b[38;5;34m256\u001b[0m)                 │         \u001b[38;5;34m131,328\u001b[0m │\n",
       "├──────────────────────────────────────┼─────────────────────────────┼─────────────────┤\n",
       "│ dense_3 (\u001b[38;5;33mDense\u001b[0m)                      │ (\u001b[38;5;45mNone\u001b[0m, \u001b[38;5;34m7\u001b[0m)                   │           \u001b[38;5;34m1,799\u001b[0m │\n",
       "└──────────────────────────────────────┴─────────────────────────────┴─────────────────┘\n"
      ]
     },
     "metadata": {},
     "output_type": "display_data"
    },
    {
     "data": {
      "text/html": [
       "<pre style=\"white-space:pre;overflow-x:auto;line-height:normal;font-family:Menlo,'DejaVu Sans Mono',consolas,'Courier New',monospace\"><span style=\"font-weight: bold\"> Total params: </span><span style=\"color: #00af00; text-decoration-color: #00af00\">14,847,815</span> (56.64 MB)\n",
       "</pre>\n"
      ],
      "text/plain": [
       "\u001b[1m Total params: \u001b[0m\u001b[38;5;34m14,847,815\u001b[0m (56.64 MB)\n"
      ]
     },
     "metadata": {},
     "output_type": "display_data"
    },
    {
     "data": {
      "text/html": [
       "<pre style=\"white-space:pre;overflow-x:auto;line-height:normal;font-family:Menlo,'DejaVu Sans Mono',consolas,'Courier New',monospace\"><span style=\"font-weight: bold\"> Trainable params: </span><span style=\"color: #00af00; text-decoration-color: #00af00\">133,127</span> (520.03 KB)\n",
       "</pre>\n"
      ],
      "text/plain": [
       "\u001b[1m Trainable params: \u001b[0m\u001b[38;5;34m133,127\u001b[0m (520.03 KB)\n"
      ]
     },
     "metadata": {},
     "output_type": "display_data"
    },
    {
     "data": {
      "text/html": [
       "<pre style=\"white-space:pre;overflow-x:auto;line-height:normal;font-family:Menlo,'DejaVu Sans Mono',consolas,'Courier New',monospace\"><span style=\"font-weight: bold\"> Non-trainable params: </span><span style=\"color: #00af00; text-decoration-color: #00af00\">14,714,688</span> (56.13 MB)\n",
       "</pre>\n"
      ],
      "text/plain": [
       "\u001b[1m Non-trainable params: \u001b[0m\u001b[38;5;34m14,714,688\u001b[0m (56.13 MB)\n"
      ]
     },
     "metadata": {},
     "output_type": "display_data"
    },
    {
     "name": "stdout",
     "output_type": "stream",
     "text": [
      "None\n"
     ]
    }
   ],
   "source": [
    "#define a model\n",
    "model_base=VGG16(weights=\"imagenet\", \n",
    "                 input_shape=(224, 224, 3), \n",
    "                 include_top=False)\n",
    "\n",
    "for layer in model_base.layers:\n",
    "  layer.trainable = False\n",
    "#model_base.trainable=False\n",
    "\n",
    "data_augmentation = tf.keras.Sequential([\n",
    "  layers.RandomFlip(\"horizontal\",input_shape=(224, 224, 3)),\n",
    "  layers.RandomRotation(0.2),\n",
    "  layers.RandomContrast(0.5),\n",
    "  ])\n",
    "\n",
    "\n",
    "model = keras.Sequential([\n",
    "    # Preprocessing\n",
    "    data_augmentation,\n",
    "    # Base\n",
    "    model_base,\n",
    "    # Head\n",
    "    #layers.Flatten(),\n",
    "    layers.GlobalAveragePooling2D(),\n",
    "    layers.Dense(256, activation='relu'),\n",
    "    #layers.Dropout(0.2),\n",
    "    layers.Dense(7, activation='softmax'),\n",
    "])\n",
    "\n",
    "model.compile(\n",
    "    optimizer=tf.keras.optimizers.Adam(learning_rate=0.001), #1e-3\n",
    "    loss=\"categorical_crossentropy\",\n",
    "    metrics=['accuracy'],\n",
    ")\n",
    "model.build(input_shape=(None,224, 224, 3))\n",
    "print(model.summary())"
   ]
  },
  {
   "cell_type": "code",
   "execution_count": 10,
   "id": "aa2da835-a63a-418d-85e0-b736818ca323",
   "metadata": {},
   "outputs": [
    {
     "data": {
      "text/plain": [
       "'plot_model(model, \\nshow_shapes=True, \\nshow_layer_names=True,\\nshow_layer_activations=True)'"
      ]
     },
     "execution_count": 10,
     "metadata": {},
     "output_type": "execute_result"
    }
   ],
   "source": [
    "\"\"\"plot_model(model, \n",
    "show_shapes=True, \n",
    "show_layer_names=True,\n",
    "show_layer_activations=True)\"\"\""
   ]
  },
  {
   "cell_type": "markdown",
   "id": "cffff0ea-77e0-4061-8b4e-2a7c546acd22",
   "metadata": {},
   "source": [
    "Séparation entre train et test"
   ]
  },
  {
   "cell_type": "markdown",
   "id": "bafb7f5f-ea3f-4fee-85ec-bec4649e748c",
   "metadata": {},
   "source": [
    "CF documentaion on image_dataset_from_directory"
   ]
  },
  {
   "cell_type": "code",
   "execution_count": 19,
   "id": "4188f4a5-654f-4bf5-8cfc-6c6c3aaba4a7",
   "metadata": {},
   "outputs": [
    {
     "name": "stdout",
     "output_type": "stream",
     "text": [
      "Found 735 files belonging to 7 classes.\n"
     ]
    }
   ],
   "source": [
    "X_train = image_dataset_from_directory(\n",
    "                    directory=\"data/Images_supervised/train/\",\n",
    "                    labels='inferred',\n",
    "                    label_mode='categorical',\n",
    "                    class_names=None,\n",
    "                    batch_size=400,\n",
    "                    image_size=(224, 224))"
   ]
  },
  {
   "cell_type": "code",
   "execution_count": 21,
   "id": "d9a2fa25-cd7e-48ba-8d4b-362f8d058bc7",
   "metadata": {},
   "outputs": [
    {
     "name": "stdout",
     "output_type": "stream",
     "text": [
      "Found 161 files belonging to 7 classes.\n"
     ]
    }
   ],
   "source": [
    "X_test = image_dataset_from_directory(\n",
    "                    directory=\"data/Images_supervised/test/\",\n",
    "                    labels='inferred',\n",
    "                    label_mode='categorical',\n",
    "                    class_names=None,\n",
    "                    batch_size=400,\n",
    "                    shuffle=False,\n",
    "                    image_size=(224, 224))"
   ]
  },
  {
   "cell_type": "code",
   "execution_count": 23,
   "id": "a7b7df2b-ab0a-4a39-a914-ed1155ea726c",
   "metadata": {},
   "outputs": [
    {
     "name": "stdout",
     "output_type": "stream",
     "text": [
      "Found 154 files belonging to 7 classes.\n"
     ]
    }
   ],
   "source": [
    "X_val = image_dataset_from_directory(\n",
    "                    directory=\"data/Images_supervised/validation/\",\n",
    "                    labels='inferred',\n",
    "                    label_mode='categorical',\n",
    "                    class_names=None,\n",
    "                    batch_size=400,\n",
    "                    image_size=(224, 224))"
   ]
  },
  {
   "cell_type": "markdown",
   "id": "9f1501e3-915b-462c-8815-0c922881f8c8",
   "metadata": {},
   "source": [
    "### Fit and predict"
   ]
  },
  {
   "cell_type": "code",
   "execution_count": 58,
   "id": "004fca1f-eb39-4b19-a08b-573e1c832a5f",
   "metadata": {},
   "outputs": [],
   "source": [
    "# define how long to wait before interruption\n",
    "min_improvement = 0.001\n",
    "epochs_to_wait = 10\n",
    "early_stopping = callbacks.EarlyStopping(monitor='val_loss',\n",
    "                                       min_delta=min_improvement,\n",
    "                                       patience=epochs_to_wait,\n",
    "                                       restore_best_weights=True)"
   ]
  },
  {
   "cell_type": "code",
   "execution_count": 59,
   "id": "09fb0863-5a4e-446e-ad86-a0bb5223db7e",
   "metadata": {},
   "outputs": [
    {
     "name": "stdout",
     "output_type": "stream",
     "text": [
      "Epoch 1/100\n",
      "\u001b[1m2/2\u001b[0m \u001b[32m━━━━━━━━━━━━━━━━━━━━\u001b[0m\u001b[37m\u001b[0m \u001b[1m49s\u001b[0m 28s/step - accuracy: 0.1687 - loss: 8.1198 - val_accuracy: 0.2273 - val_loss: 7.3983\n",
      "Epoch 2/100\n",
      "\u001b[1m2/2\u001b[0m \u001b[32m━━━━━━━━━━━━━━━━━━━━\u001b[0m\u001b[37m\u001b[0m \u001b[1m48s\u001b[0m 26s/step - accuracy: 0.3225 - loss: 4.3845 - val_accuracy: 0.3701 - val_loss: 4.1281\n",
      "Epoch 3/100\n",
      "\u001b[1m2/2\u001b[0m \u001b[32m━━━━━━━━━━━━━━━━━━━━\u001b[0m\u001b[37m\u001b[0m \u001b[1m47s\u001b[0m 26s/step - accuracy: 0.4828 - loss: 2.4523 - val_accuracy: 0.6169 - val_loss: 2.1293\n",
      "Epoch 4/100\n",
      "\u001b[1m2/2\u001b[0m \u001b[32m━━━━━━━━━━━━━━━━━━━━\u001b[0m\u001b[37m\u001b[0m \u001b[1m47s\u001b[0m 26s/step - accuracy: 0.5998 - loss: 2.2120 - val_accuracy: 0.6364 - val_loss: 2.1113\n",
      "Epoch 5/100\n",
      "\u001b[1m2/2\u001b[0m \u001b[32m━━━━━━━━━━━━━━━━━━━━\u001b[0m\u001b[37m\u001b[0m \u001b[1m51s\u001b[0m 28s/step - accuracy: 0.5861 - loss: 1.7686 - val_accuracy: 0.6753 - val_loss: 1.8811\n",
      "Epoch 6/100\n",
      "\u001b[1m2/2\u001b[0m \u001b[32m━━━━━━━━━━━━━━━━━━━━\u001b[0m\u001b[37m\u001b[0m \u001b[1m47s\u001b[0m 25s/step - accuracy: 0.6898 - loss: 1.5892 - val_accuracy: 0.7208 - val_loss: 1.4352\n",
      "Epoch 7/100\n",
      "\u001b[1m2/2\u001b[0m \u001b[32m━━━━━━━━━━━━━━━━━━━━\u001b[0m\u001b[37m\u001b[0m \u001b[1m46s\u001b[0m 25s/step - accuracy: 0.7252 - loss: 1.5872 - val_accuracy: 0.7468 - val_loss: 1.2724\n",
      "Epoch 8/100\n",
      "\u001b[1m2/2\u001b[0m \u001b[32m━━━━━━━━━━━━━━━━━━━━\u001b[0m\u001b[37m\u001b[0m \u001b[1m46s\u001b[0m 25s/step - accuracy: 0.7594 - loss: 1.2117 - val_accuracy: 0.7597 - val_loss: 1.2886\n",
      "Epoch 9/100\n",
      "\u001b[1m2/2\u001b[0m \u001b[32m━━━━━━━━━━━━━━━━━━━━\u001b[0m\u001b[37m\u001b[0m \u001b[1m47s\u001b[0m 25s/step - accuracy: 0.7533 - loss: 1.2700 - val_accuracy: 0.7597 - val_loss: 1.3036\n",
      "Epoch 10/100\n",
      "\u001b[1m2/2\u001b[0m \u001b[32m━━━━━━━━━━━━━━━━━━━━\u001b[0m\u001b[37m\u001b[0m \u001b[1m46s\u001b[0m 25s/step - accuracy: 0.7665 - loss: 1.1355 - val_accuracy: 0.7468 - val_loss: 1.2754\n",
      "Epoch 11/100\n",
      "\u001b[1m2/2\u001b[0m \u001b[32m━━━━━━━━━━━━━━━━━━━━\u001b[0m\u001b[37m\u001b[0m \u001b[1m46s\u001b[0m 25s/step - accuracy: 0.7826 - loss: 0.8960 - val_accuracy: 0.7727 - val_loss: 1.1319\n",
      "Epoch 12/100\n",
      "\u001b[1m2/2\u001b[0m \u001b[32m━━━━━━━━━━━━━━━━━━━━\u001b[0m\u001b[37m\u001b[0m \u001b[1m49s\u001b[0m 26s/step - accuracy: 0.7958 - loss: 0.7381 - val_accuracy: 0.7792 - val_loss: 1.0432\n",
      "Epoch 13/100\n",
      "\u001b[1m2/2\u001b[0m \u001b[32m━━━━━━━━━━━━━━━━━━━━\u001b[0m\u001b[37m\u001b[0m \u001b[1m48s\u001b[0m 27s/step - accuracy: 0.8095 - loss: 0.7688 - val_accuracy: 0.7857 - val_loss: 1.0325\n",
      "Epoch 14/100\n",
      "\u001b[1m2/2\u001b[0m \u001b[32m━━━━━━━━━━━━━━━━━━━━\u001b[0m\u001b[37m\u001b[0m \u001b[1m50s\u001b[0m 28s/step - accuracy: 0.8257 - loss: 0.6234 - val_accuracy: 0.7922 - val_loss: 1.0069\n",
      "Epoch 15/100\n",
      "\u001b[1m2/2\u001b[0m \u001b[32m━━━━━━━━━━━━━━━━━━━━\u001b[0m\u001b[37m\u001b[0m \u001b[1m50s\u001b[0m 27s/step - accuracy: 0.8309 - loss: 0.5990 - val_accuracy: 0.7922 - val_loss: 0.9642\n",
      "Epoch 16/100\n",
      "\u001b[1m2/2\u001b[0m \u001b[32m━━━━━━━━━━━━━━━━━━━━\u001b[0m\u001b[37m\u001b[0m \u001b[1m49s\u001b[0m 27s/step - accuracy: 0.8513 - loss: 0.6049 - val_accuracy: 0.8117 - val_loss: 0.9483\n",
      "Epoch 17/100\n",
      "\u001b[1m2/2\u001b[0m \u001b[32m━━━━━━━━━━━━━━━━━━━━\u001b[0m\u001b[37m\u001b[0m \u001b[1m46s\u001b[0m 25s/step - accuracy: 0.8583 - loss: 0.4700 - val_accuracy: 0.7987 - val_loss: 0.9527\n",
      "Epoch 18/100\n",
      "\u001b[1m2/2\u001b[0m \u001b[32m━━━━━━━━━━━━━━━━━━━━\u001b[0m\u001b[37m\u001b[0m \u001b[1m46s\u001b[0m 25s/step - accuracy: 0.8734 - loss: 0.4042 - val_accuracy: 0.7987 - val_loss: 0.9696\n",
      "Epoch 19/100\n",
      "\u001b[1m2/2\u001b[0m \u001b[32m━━━━━━━━━━━━━━━━━━━━\u001b[0m\u001b[37m\u001b[0m \u001b[1m46s\u001b[0m 25s/step - accuracy: 0.8553 - loss: 0.4079 - val_accuracy: 0.7922 - val_loss: 0.9524\n",
      "Epoch 20/100\n",
      "\u001b[1m2/2\u001b[0m \u001b[32m━━━━━━━━━━━━━━━━━━━━\u001b[0m\u001b[37m\u001b[0m \u001b[1m46s\u001b[0m 25s/step - accuracy: 0.8574 - loss: 0.4335 - val_accuracy: 0.8052 - val_loss: 0.9296\n",
      "Epoch 21/100\n",
      "\u001b[1m2/2\u001b[0m \u001b[32m━━━━━━━━━━━━━━━━━━━━\u001b[0m\u001b[37m\u001b[0m \u001b[1m46s\u001b[0m 25s/step - accuracy: 0.8945 - loss: 0.3606 - val_accuracy: 0.8182 - val_loss: 0.9066\n",
      "Epoch 22/100\n",
      "\u001b[1m2/2\u001b[0m \u001b[32m━━━━━━━━━━━━━━━━━━━━\u001b[0m\u001b[37m\u001b[0m \u001b[1m47s\u001b[0m 26s/step - accuracy: 0.8925 - loss: 0.3229 - val_accuracy: 0.8182 - val_loss: 0.9093\n",
      "Epoch 23/100\n",
      "\u001b[1m2/2\u001b[0m \u001b[32m━━━━━━━━━━━━━━━━━━━━\u001b[0m\u001b[37m\u001b[0m \u001b[1m46s\u001b[0m 25s/step - accuracy: 0.8818 - loss: 0.3509 - val_accuracy: 0.8117 - val_loss: 0.9158\n",
      "Epoch 24/100\n",
      "\u001b[1m2/2\u001b[0m \u001b[32m━━━━━━━━━━━━━━━━━━━━\u001b[0m\u001b[37m\u001b[0m \u001b[1m46s\u001b[0m 25s/step - accuracy: 0.9177 - loss: 0.2636 - val_accuracy: 0.8052 - val_loss: 0.9256\n",
      "Epoch 25/100\n",
      "\u001b[1m2/2\u001b[0m \u001b[32m━━━━━━━━━━━━━━━━━━━━\u001b[0m\u001b[37m\u001b[0m \u001b[1m46s\u001b[0m 25s/step - accuracy: 0.9182 - loss: 0.2482 - val_accuracy: 0.8117 - val_loss: 0.9261\n",
      "Epoch 26/100\n",
      "\u001b[1m2/2\u001b[0m \u001b[32m━━━━━━━━━━━━━━━━━━━━\u001b[0m\u001b[37m\u001b[0m \u001b[1m46s\u001b[0m 25s/step - accuracy: 0.9076 - loss: 0.2621 - val_accuracy: 0.8052 - val_loss: 0.9222\n",
      "Epoch 27/100\n",
      "\u001b[1m2/2\u001b[0m \u001b[32m━━━━━━━━━━━━━━━━━━━━\u001b[0m\u001b[37m\u001b[0m \u001b[1m45s\u001b[0m 25s/step - accuracy: 0.9233 - loss: 0.2282 - val_accuracy: 0.8052 - val_loss: 0.9119\n",
      "Epoch 28/100\n",
      "\u001b[1m2/2\u001b[0m \u001b[32m━━━━━━━━━━━━━━━━━━━━\u001b[0m\u001b[37m\u001b[0m \u001b[1m46s\u001b[0m 25s/step - accuracy: 0.9061 - loss: 0.2680 - val_accuracy: 0.8377 - val_loss: 0.8966\n",
      "Epoch 29/100\n",
      "\u001b[1m2/2\u001b[0m \u001b[32m━━━━━━━━━━━━━━━━━━━━\u001b[0m\u001b[37m\u001b[0m \u001b[1m46s\u001b[0m 25s/step - accuracy: 0.9365 - loss: 0.2064 - val_accuracy: 0.8377 - val_loss: 0.9072\n",
      "Epoch 30/100\n",
      "\u001b[1m2/2\u001b[0m \u001b[32m━━━━━━━━━━━━━━━━━━━━\u001b[0m\u001b[37m\u001b[0m \u001b[1m47s\u001b[0m 26s/step - accuracy: 0.9216 - loss: 0.1937 - val_accuracy: 0.8377 - val_loss: 0.9378\n",
      "Epoch 31/100\n",
      "\u001b[1m2/2\u001b[0m \u001b[32m━━━━━━━━━━━━━━━━━━━━\u001b[0m\u001b[37m\u001b[0m \u001b[1m46s\u001b[0m 25s/step - accuracy: 0.9595 - loss: 0.1640 - val_accuracy: 0.8052 - val_loss: 0.9752\n",
      "Epoch 32/100\n",
      "\u001b[1m2/2\u001b[0m \u001b[32m━━━━━━━━━━━━━━━━━━━━\u001b[0m\u001b[37m\u001b[0m \u001b[1m46s\u001b[0m 25s/step - accuracy: 0.9533 - loss: 0.1406 - val_accuracy: 0.8052 - val_loss: 0.9855\n",
      "Epoch 33/100\n",
      "\u001b[1m2/2\u001b[0m \u001b[32m━━━━━━━━━━━━━━━━━━━━\u001b[0m\u001b[37m\u001b[0m \u001b[1m46s\u001b[0m 25s/step - accuracy: 0.9352 - loss: 0.1773 - val_accuracy: 0.8117 - val_loss: 0.9604\n",
      "Epoch 34/100\n",
      "\u001b[1m2/2\u001b[0m \u001b[32m━━━━━━━━━━━━━━━━━━━━\u001b[0m\u001b[37m\u001b[0m \u001b[1m47s\u001b[0m 25s/step - accuracy: 0.9551 - loss: 0.1399 - val_accuracy: 0.8117 - val_loss: 0.9406\n",
      "Epoch 35/100\n",
      "\u001b[1m2/2\u001b[0m \u001b[32m━━━━━━━━━━━━━━━━━━━━\u001b[0m\u001b[37m\u001b[0m \u001b[1m47s\u001b[0m 25s/step - accuracy: 0.9412 - loss: 0.1447 - val_accuracy: 0.8117 - val_loss: 0.9352\n",
      "Epoch 36/100\n",
      "\u001b[1m2/2\u001b[0m \u001b[32m━━━━━━━━━━━━━━━━━━━━\u001b[0m\u001b[37m\u001b[0m \u001b[1m47s\u001b[0m 25s/step - accuracy: 0.9538 - loss: 0.1390 - val_accuracy: 0.8247 - val_loss: 0.9532\n",
      "Epoch 37/100\n",
      "\u001b[1m2/2\u001b[0m \u001b[32m━━━━━━━━━━━━━━━━━━━━\u001b[0m\u001b[37m\u001b[0m \u001b[1m47s\u001b[0m 26s/step - accuracy: 0.9449 - loss: 0.1491 - val_accuracy: 0.8117 - val_loss: 0.9860\n",
      "Epoch 38/100\n",
      "\u001b[1m2/2\u001b[0m \u001b[32m━━━━━━━━━━━━━━━━━━━━\u001b[0m\u001b[37m\u001b[0m \u001b[1m48s\u001b[0m 27s/step - accuracy: 0.9664 - loss: 0.1156 - val_accuracy: 0.8182 - val_loss: 1.0068\n"
     ]
    }
   ],
   "source": [
    "history = model.fit(X_train,\n",
    "                  validation_data=X_val,\n",
    "                  epochs=100,\n",
    "                  verbose=1,\n",
    "                  callbacks=[early_stopping])"
   ]
  },
  {
   "cell_type": "markdown",
   "id": "1429192c-dfd8-4743-b03b-a15413d3a50f",
   "metadata": {},
   "source": [
    "Several tests presented different results \\\n",
    "Somtimes the early stopping function stops at 25, sometimes 38, and sometimes not at all \\\n",
    "We will limit to 60 epochs, in order to search within our hypothetically ideal ground, which is from 25 to 50 epochs"
   ]
  },
  {
   "cell_type": "code",
   "execution_count": 177,
   "id": "c7ffebb3-cdc0-4952-8b40-e5f4eb3ce2cb",
   "metadata": {},
   "outputs": [
    {
     "data": {
      "image/png": "[encoded data removed]",
      "text/plain": [
       "<Figure size 2500x800 with 2 Axes>"
      ]
     },
     "metadata": {},
     "output_type": "display_data"
    }
   ],
   "source": [
    "fig, ax = plt.subplots(1, 2, figsize=(25, 8))\n",
    "\n",
    "# plotting loss\n",
    "ax[0].plot(history_frame['loss'], label='Training Loss')\n",
    "ax[0].plot(history_frame['val_loss'], label='Validation Loss')\n",
    "ax[0].legend(loc='upper right')\n",
    "ax[0].set_ylabel('Loss')\n",
    "ax[0].set_ylim([0,1.0])\n",
    "ax[0].set_title('Training and Validation Loss')\n",
    "ax[0].set_xlabel('epoch')\n",
    "\n",
    "# plotting accuracy\n",
    "ax[1].plot(history_frame['accuracy'], label='Training Accuracy')\n",
    "ax[1].plot(history_frame['val_accuracy'], label='Validation Accuracy')\n",
    "ax[1].legend(loc='upper right')\n",
    "ax[1].set_ylabel('Accuracy')\n",
    "ax[1].set_ylim([0,1.0])\n",
    "ax[1].set_title('Training and Validation Accuracy')\n",
    "ax[1].set_xlabel('epoch')\n",
    "\n",
    "\n",
    "plt.suptitle('Loss and accuracy by epoch :\\n LR='+str(model.optimizer.learning_rate.numpy())+\" / min delta=\"+str(min_improvement)+\" / patience=\"+str(epochs_to_wait))\n",
    "plt.show()"
   ]
  },
  {
   "cell_type": "markdown",
   "id": "e2625905-95a0-408d-9ebd-86d41f393f91",
   "metadata": {},
   "source": [
    "### Optimization\n",
    "\n",
    "Will now try to opitmize batch and epochs hyperparameters \n",
    "\n",
    "Keras documentation warns us against using a batch parameter when using generated data https://keras.io/api/models/model_training_apis/ \\\n",
    "\"batch_size: Integer or None. Number of samples per gradient update. If unspecified, batch_size will default to 32. Do not specify the batch_size if your data is in the form of datasets, generators, or keras.utils.PyDataset instances (since they generate batches).\""
   ]
  },
  {
   "cell_type": "markdown",
   "id": "df805b53-d849-4dd2-aa66-888e101a0de4",
   "metadata": {},
   "source": [
    "Hence we only have to optimize our epochs. \\\n",
    "This is already done by using an EarlyStopping function, but we can observe the best epoch of current fit"
   ]
  },
  {
   "cell_type": "code",
   "execution_count": 153,
   "id": "5f812bd4-be2a-4c35-8a72-74153c38ece1",
   "metadata": {},
   "outputs": [
    {
     "name": "stdout",
     "output_type": "stream",
     "text": [
      "Best epoch : 28\n"
     ]
    }
   ],
   "source": [
    "# get the best # of epochs\n",
    "val_loss_per_epoch = history.history['val_loss']\n",
    "best_epoch = val_loss_per_epoch.index(min(val_loss_per_epoch)) + 1\n",
    "print(f\"Best epoch : {best_epoch}\")"
   ]
  },
  {
   "cell_type": "markdown",
   "id": "891d2fd6-3a1f-4b93-a33b-285e191dbc0e",
   "metadata": {},
   "source": [
    "We can isolate the best epoch of this fit, which is within our predicted range \\\n",
    "We will recommend to settle for 40 epochs, in order to limit computationnal consumption but allow model to thrive \\\n",
    "We will keep the EarlyStopping function as good practice recommends it"
   ]
  }
 ],
 "metadata": {
  "kernelspec": {
   "display_name": "Python 3 (ipykernel)",
   "language": "python",
   "name": "python3"
  },
  "language_info": {
   "codemirror_mode": {
    "name": "ipython",
    "version": 3
   },
   "file_extension": ".py",
   "mimetype": "text/x-python",
   "name": "python",
   "nbconvert_exporter": "python",
   "pygments_lexer": "ipython3",
   "version": "3.11.5"
  }
 },
 "nbformat": 4,
 "nbformat_minor": 5
}
