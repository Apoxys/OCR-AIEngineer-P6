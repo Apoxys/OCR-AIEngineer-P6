{
 "cells": [
  {
   "cell_type": "markdown",
   "id": "74d6b90f-e06b-4dbc-82a4-9896a4a5bc05",
   "metadata": {},
   "source": [
    "# Classification for place de marché : TransferLearning using VGG16 model"
   ]
  },
  {
   "cell_type": "markdown",
   "id": "5b0894a1-91e8-43b9-a70a-e6dff9d4a0ff",
   "metadata": {},
   "source": [
    "Now the feasability is established, we will continue to supervised classification\n",
    "\n",
    "We will : \n",
    "- Split our data set\n",
    "- Augment our data\n",
    "- Train our model\n",
    "- Predict our classes"
   ]
  },
  {
   "cell_type": "code",
   "execution_count": 44,
   "id": "7703c6f0-d5c3-4199-bb7f-4b8145147fea",
   "metadata": {},
   "outputs": [],
   "source": [
    "# classic Librairies\n",
    "import numpy as np\n",
    "import pandas as pd\n",
    "import matplotlib.pyplot as plt\n",
    "import seaborn as sns\n",
    "import time\n",
    "import os\n",
    "import shutil\n",
    "\n",
    "\n",
    "from sklearn.decomposition import PCA\n",
    "from sklearn.manifold import TSNE\n",
    "\n",
    "from sklearn import cluster\n",
    "from sklearn.model_selection import train_test_split\n",
    "from sklearn.cluster import KMeans\n",
    "\n",
    "from sklearn.metrics.cluster import adjusted_rand_score\n",
    "\n",
    "from sklearn.model_selection import StratifiedShuffleSplit\n",
    "\n",
    "# librairies for NLP\n",
    "import tensorflow as tf\n",
    "from tensorflow import keras\n",
    "import tensorflow.keras\n",
    "from tensorflow.keras import backend as K\n",
    "\n",
    "from tensorflow.keras import metrics as kmetrics\n",
    "from tensorflow.keras.layers import *\n",
    "from tensorflow.keras.models import Model\n",
    "from tensorflow.keras.utils import image_dataset_from_directory,plot_model\n",
    "from tensorflow.keras.applications.vgg16 import VGG16\n",
    "from tensorflow.keras import layers,callbacks\n",
    "\n",
    "# image imports\n",
    "from matplotlib.image import imread\n",
    "import PIL\n",
    "from PIL import Image, ImageFilter, ImageEnhance\n",
    "\n",
    "import cv2"
   ]
  },
  {
   "cell_type": "code",
   "execution_count": 27,
   "id": "d3fe68e1-46bf-4c98-9919-b3b6ea09a76c",
   "metadata": {},
   "outputs": [
    {
     "data": {
      "text/html": [
       "<div>\n",
       "<style scoped>\n",
       "    .dataframe tbody tr th:only-of-type {\n",
       "        vertical-align: middle;\n",
       "    }\n",
       "\n",
       "    .dataframe tbody tr th {\n",
       "        vertical-align: top;\n",
       "    }\n",
       "\n",
       "    .dataframe thead th {\n",
       "        text-align: right;\n",
       "    }\n",
       "</style>\n",
       "<table border=\"1\" class=\"dataframe\">\n",
       "  <thead>\n",
       "    <tr style=\"text-align: right;\">\n",
       "      <th></th>\n",
       "      <th>image</th>\n",
       "      <th>category</th>\n",
       "      <th>img_path</th>\n",
       "    </tr>\n",
       "  </thead>\n",
       "  <tbody>\n",
       "    <tr>\n",
       "      <th>0</th>\n",
       "      <td>55b85ea15a1536d46b7190ad6fff8ce7.jpg</td>\n",
       "      <td>Home Furnishing</td>\n",
       "      <td>data/Images/55b85ea15a1536d46b7190ad6fff8ce7.jpg</td>\n",
       "    </tr>\n",
       "    <tr>\n",
       "      <th>1</th>\n",
       "      <td>7b72c92c2f6c40268628ec5f14c6d590.jpg</td>\n",
       "      <td>Baby Care</td>\n",
       "      <td>data/Images/7b72c92c2f6c40268628ec5f14c6d590.jpg</td>\n",
       "    </tr>\n",
       "    <tr>\n",
       "      <th>2</th>\n",
       "      <td>64d5d4a258243731dc7bbb1eef49ad74.jpg</td>\n",
       "      <td>Baby Care</td>\n",
       "      <td>data/Images/64d5d4a258243731dc7bbb1eef49ad74.jpg</td>\n",
       "    </tr>\n",
       "    <tr>\n",
       "      <th>3</th>\n",
       "      <td>d4684dcdc759dd9cdf41504698d737d8.jpg</td>\n",
       "      <td>Home Furnishing</td>\n",
       "      <td>data/Images/d4684dcdc759dd9cdf41504698d737d8.jpg</td>\n",
       "    </tr>\n",
       "    <tr>\n",
       "      <th>4</th>\n",
       "      <td>6325b6870c54cd47be6ebfbffa620ec7.jpg</td>\n",
       "      <td>Home Furnishing</td>\n",
       "      <td>data/Images/6325b6870c54cd47be6ebfbffa620ec7.jpg</td>\n",
       "    </tr>\n",
       "  </tbody>\n",
       "</table>\n",
       "</div>"
      ],
      "text/plain": [
       "                                  image         category  \\\n",
       "0  55b85ea15a1536d46b7190ad6fff8ce7.jpg  Home Furnishing   \n",
       "1  7b72c92c2f6c40268628ec5f14c6d590.jpg        Baby Care   \n",
       "2  64d5d4a258243731dc7bbb1eef49ad74.jpg        Baby Care   \n",
       "3  d4684dcdc759dd9cdf41504698d737d8.jpg  Home Furnishing   \n",
       "4  6325b6870c54cd47be6ebfbffa620ec7.jpg  Home Furnishing   \n",
       "\n",
       "                                           img_path  \n",
       "0  data/Images/55b85ea15a1536d46b7190ad6fff8ce7.jpg  \n",
       "1  data/Images/7b72c92c2f6c40268628ec5f14c6d590.jpg  \n",
       "2  data/Images/64d5d4a258243731dc7bbb1eef49ad74.jpg  \n",
       "3  data/Images/d4684dcdc759dd9cdf41504698d737d8.jpg  \n",
       "4  data/Images/6325b6870c54cd47be6ebfbffa620ec7.jpg  "
      ]
     },
     "execution_count": 27,
     "metadata": {},
     "output_type": "execute_result"
    }
   ],
   "source": [
    "# Using the dataset to prepare the subset \"data_img\"\n",
    "\n",
    "data = pd.read_csv(\"data/flipkart_com-ecommerce_sample_1050.csv\")\n",
    "data['general_category'] = data['product_category_tree'].map(lambda x: x.strip('[\"]').split(' >> ')[0])\n",
    "data_img = pd.DataFrame()\n",
    "data_img['image'] = data['image']\n",
    "data_img['category'] = data['general_category']\n",
    "data_img['img_path'] = [os.path.join('data/Images/', filename) for filename in data_img['image']]\n",
    "data_img.head()"
   ]
  },
  {
   "cell_type": "markdown",
   "id": "11c4b2d8-6b32-47fc-88fe-01d0b94a2747",
   "metadata": {},
   "source": [
    "We will split our data in train/test/val directories, and each of them will contain a directory according to the classes to be predicted"
   ]
  },
  {
   "cell_type": "code",
   "execution_count": 29,
   "id": "6db7e591-b45a-45c5-8967-7e57cb50f192",
   "metadata": {},
   "outputs": [],
   "source": [
    "#Liste des catégories\n",
    "categories = data_img[\"category\"].unique().tolist()\n",
    "\n",
    "#Ratios\n",
    "train_ratio = 0.7\n",
    "val_ratio = 0.15\n",
    "test_ratio = 0.15\n",
    "\n",
    "#Pathing de l'image\n",
    "image_dir = './data/Images/'\n",
    "\n",
    "#Dossier de destination\n",
    "supervised_dir = './data/Images_supervised/'\n",
    "\n",
    "#Création des dossiers\n",
    "for category in categories:\n",
    "    os.makedirs(os.path.join(supervised_dir, 'train', category), exist_ok=True)\n",
    "    os.makedirs(os.path.join(supervised_dir, 'validation', category), exist_ok=True)\n",
    "    os.makedirs(os.path.join(supervised_dir, 'test', category), exist_ok=True)\n",
    "\n",
    "#Chemins vers les datasets\n",
    "train_dir = f'{supervised_dir}train'\n",
    "validation_dir = f'{supervised_dir}validation'\n",
    "test_dir = f'{supervised_dir}test'\n",
    "\n",
    "for category in categories:\n",
    "    # Filtrer les images de la catégorie en question\n",
    "    category_images = data_img[data_img['category'] == category]['image'].tolist()\n",
    "\n",
    "    # Diviser en train, validation, et test\n",
    "    train_images, test_val_images = train_test_split(category_images, test_size=val_ratio + test_ratio, random_state=22)\n",
    "    val_images, test_images = train_test_split(test_val_images, test_size=test_ratio / (val_ratio + test_ratio), random_state=22)\n",
    "\n",
    "    # Déplacer les images vers les répertoires respectifs\n",
    "    for img in train_images:\n",
    "        src = os.path.join(image_dir, img)\n",
    "        dst = os.path.join(supervised_dir, 'train', category, img)\n",
    "        shutil.copy(src, dst)\n",
    "\n",
    "    for img in val_images:\n",
    "        src = os.path.join(image_dir, img)\n",
    "        dst = os.path.join(supervised_dir, 'validation', category, img)\n",
    "        shutil.copy(src, dst)\n",
    "\n",
    "    for img in test_images:\n",
    "        src = os.path.join(image_dir, img)\n",
    "        dst = os.path.join(supervised_dir, 'test', category, img)\n",
    "        shutil.copy(src, dst)"
   ]
  },
  {
   "cell_type": "markdown",
   "id": "d3f48a29-3025-4f81-80a9-05b1ae2acd1a",
   "metadata": {},
   "source": [
    "### Création du modèle\n",
    "\n",
    "Attention !\\\n",
    "keras.Sequential a remplacer avec ImageDataGenerator"
   ]
  },
  {
   "cell_type": "code",
   "execution_count": 35,
   "id": "ae4baadf-14f6-4b81-a244-e205626c8c86",
   "metadata": {},
   "outputs": [
    {
     "name": "stderr",
     "output_type": "stream",
     "text": [
      "C:\\Users\\kanam\\anaconda3\\Lib\\site-packages\\keras\\src\\layers\\preprocessing\\tf_data_layer.py:19: UserWarning: Do not pass an `input_shape`/`input_dim` argument to a layer. When using Sequential models, prefer using an `Input(shape)` object as the first layer in the model instead.\n",
      "  super().__init__(**kwargs)\n"
     ]
    },
    {
     "data": {
      "text/html": [
       "<pre style=\"white-space:pre;overflow-x:auto;line-height:normal;font-family:Menlo,'DejaVu Sans Mono',consolas,'Courier New',monospace\"><span style=\"font-weight: bold\">Model: \"sequential_2\"</span>\n",
       "</pre>\n"
      ],
      "text/plain": [
       "\u001b[1mModel: \"sequential_2\"\u001b[0m\n"
      ]
     },
     "metadata": {},
     "output_type": "display_data"
    },
    {
     "data": {
      "text/html": [
       "<pre style=\"white-space:pre;overflow-x:auto;line-height:normal;font-family:Menlo,'DejaVu Sans Mono',consolas,'Courier New',monospace\">┏━━━━━━━━━━━━━━━━━━━━━━━━━━━━━━━━━━━━━━┳━━━━━━━━━━━━━━━━━━━━━━━━━━━━━┳━━━━━━━━━━━━━━━━━┓\n",
       "┃<span style=\"font-weight: bold\"> Layer (type)                         </span>┃<span style=\"font-weight: bold\"> Output Shape                </span>┃<span style=\"font-weight: bold\">         Param # </span>┃\n",
       "┡━━━━━━━━━━━━━━━━━━━━━━━━━━━━━━━━━━━━━━╇━━━━━━━━━━━━━━━━━━━━━━━━━━━━━╇━━━━━━━━━━━━━━━━━┩\n",
       "│ sequential_1 (<span style=\"color: #0087ff; text-decoration-color: #0087ff\">Sequential</span>)            │ (<span style=\"color: #00d7ff; text-decoration-color: #00d7ff\">None</span>, <span style=\"color: #00af00; text-decoration-color: #00af00\">224</span>, <span style=\"color: #00af00; text-decoration-color: #00af00\">224</span>, <span style=\"color: #00af00; text-decoration-color: #00af00\">3</span>)         │               <span style=\"color: #00af00; text-decoration-color: #00af00\">0</span> │\n",
       "├──────────────────────────────────────┼─────────────────────────────┼─────────────────┤\n",
       "│ vgg16 (<span style=\"color: #0087ff; text-decoration-color: #0087ff\">Functional</span>)                   │ (<span style=\"color: #00d7ff; text-decoration-color: #00d7ff\">None</span>, <span style=\"color: #00af00; text-decoration-color: #00af00\">7</span>, <span style=\"color: #00af00; text-decoration-color: #00af00\">7</span>, <span style=\"color: #00af00; text-decoration-color: #00af00\">512</span>)           │      <span style=\"color: #00af00; text-decoration-color: #00af00\">14,714,688</span> │\n",
       "├──────────────────────────────────────┼─────────────────────────────┼─────────────────┤\n",
       "│ global_average_pooling2d             │ (<span style=\"color: #00d7ff; text-decoration-color: #00d7ff\">None</span>, <span style=\"color: #00af00; text-decoration-color: #00af00\">512</span>)                 │               <span style=\"color: #00af00; text-decoration-color: #00af00\">0</span> │\n",
       "│ (<span style=\"color: #0087ff; text-decoration-color: #0087ff\">GlobalAveragePooling2D</span>)             │                             │                 │\n",
       "├──────────────────────────────────────┼─────────────────────────────┼─────────────────┤\n",
       "│ dense (<span style=\"color: #0087ff; text-decoration-color: #0087ff\">Dense</span>)                        │ (<span style=\"color: #00d7ff; text-decoration-color: #00d7ff\">None</span>, <span style=\"color: #00af00; text-decoration-color: #00af00\">256</span>)                 │         <span style=\"color: #00af00; text-decoration-color: #00af00\">131,328</span> │\n",
       "├──────────────────────────────────────┼─────────────────────────────┼─────────────────┤\n",
       "│ dense_1 (<span style=\"color: #0087ff; text-decoration-color: #0087ff\">Dense</span>)                      │ (<span style=\"color: #00d7ff; text-decoration-color: #00d7ff\">None</span>, <span style=\"color: #00af00; text-decoration-color: #00af00\">7</span>)                   │           <span style=\"color: #00af00; text-decoration-color: #00af00\">1,799</span> │\n",
       "└──────────────────────────────────────┴─────────────────────────────┴─────────────────┘\n",
       "</pre>\n"
      ],
      "text/plain": [
       "┏━━━━━━━━━━━━━━━━━━━━━━━━━━━━━━━━━━━━━━┳━━━━━━━━━━━━━━━━━━━━━━━━━━━━━┳━━━━━━━━━━━━━━━━━┓\n",
       "┃\u001b[1m \u001b[0m\u001b[1mLayer (type)                        \u001b[0m\u001b[1m \u001b[0m┃\u001b[1m \u001b[0m\u001b[1mOutput Shape               \u001b[0m\u001b[1m \u001b[0m┃\u001b[1m \u001b[0m\u001b[1m        Param #\u001b[0m\u001b[1m \u001b[0m┃\n",
       "┡━━━━━━━━━━━━━━━━━━━━━━━━━━━━━━━━━━━━━━╇━━━━━━━━━━━━━━━━━━━━━━━━━━━━━╇━━━━━━━━━━━━━━━━━┩\n",
       "│ sequential_1 (\u001b[38;5;33mSequential\u001b[0m)            │ (\u001b[38;5;45mNone\u001b[0m, \u001b[38;5;34m224\u001b[0m, \u001b[38;5;34m224\u001b[0m, \u001b[38;5;34m3\u001b[0m)         │               \u001b[38;5;34m0\u001b[0m │\n",
       "├──────────────────────────────────────┼─────────────────────────────┼─────────────────┤\n",
       "│ vgg16 (\u001b[38;5;33mFunctional\u001b[0m)                   │ (\u001b[38;5;45mNone\u001b[0m, \u001b[38;5;34m7\u001b[0m, \u001b[38;5;34m7\u001b[0m, \u001b[38;5;34m512\u001b[0m)           │      \u001b[38;5;34m14,714,688\u001b[0m │\n",
       "├──────────────────────────────────────┼─────────────────────────────┼─────────────────┤\n",
       "│ global_average_pooling2d             │ (\u001b[38;5;45mNone\u001b[0m, \u001b[38;5;34m512\u001b[0m)                 │               \u001b[38;5;34m0\u001b[0m │\n",
       "│ (\u001b[38;5;33mGlobalAveragePooling2D\u001b[0m)             │                             │                 │\n",
       "├──────────────────────────────────────┼─────────────────────────────┼─────────────────┤\n",
       "│ dense (\u001b[38;5;33mDense\u001b[0m)                        │ (\u001b[38;5;45mNone\u001b[0m, \u001b[38;5;34m256\u001b[0m)                 │         \u001b[38;5;34m131,328\u001b[0m │\n",
       "├──────────────────────────────────────┼─────────────────────────────┼─────────────────┤\n",
       "│ dense_1 (\u001b[38;5;33mDense\u001b[0m)                      │ (\u001b[38;5;45mNone\u001b[0m, \u001b[38;5;34m7\u001b[0m)                   │           \u001b[38;5;34m1,799\u001b[0m │\n",
       "└──────────────────────────────────────┴─────────────────────────────┴─────────────────┘\n"
      ]
     },
     "metadata": {},
     "output_type": "display_data"
    },
    {
     "data": {
      "text/html": [
       "<pre style=\"white-space:pre;overflow-x:auto;line-height:normal;font-family:Menlo,'DejaVu Sans Mono',consolas,'Courier New',monospace\"><span style=\"font-weight: bold\"> Total params: </span><span style=\"color: #00af00; text-decoration-color: #00af00\">14,847,815</span> (56.64 MB)\n",
       "</pre>\n"
      ],
      "text/plain": [
       "\u001b[1m Total params: \u001b[0m\u001b[38;5;34m14,847,815\u001b[0m (56.64 MB)\n"
      ]
     },
     "metadata": {},
     "output_type": "display_data"
    },
    {
     "data": {
      "text/html": [
       "<pre style=\"white-space:pre;overflow-x:auto;line-height:normal;font-family:Menlo,'DejaVu Sans Mono',consolas,'Courier New',monospace\"><span style=\"font-weight: bold\"> Trainable params: </span><span style=\"color: #00af00; text-decoration-color: #00af00\">133,127</span> (520.03 KB)\n",
       "</pre>\n"
      ],
      "text/plain": [
       "\u001b[1m Trainable params: \u001b[0m\u001b[38;5;34m133,127\u001b[0m (520.03 KB)\n"
      ]
     },
     "metadata": {},
     "output_type": "display_data"
    },
    {
     "data": {
      "text/html": [
       "<pre style=\"white-space:pre;overflow-x:auto;line-height:normal;font-family:Menlo,'DejaVu Sans Mono',consolas,'Courier New',monospace\"><span style=\"font-weight: bold\"> Non-trainable params: </span><span style=\"color: #00af00; text-decoration-color: #00af00\">14,714,688</span> (56.13 MB)\n",
       "</pre>\n"
      ],
      "text/plain": [
       "\u001b[1m Non-trainable params: \u001b[0m\u001b[38;5;34m14,714,688\u001b[0m (56.13 MB)\n"
      ]
     },
     "metadata": {},
     "output_type": "display_data"
    }
   ],
   "source": [
    "model_base=VGG16(include_top=False, weights=\"imagenet\",input_shape=(224, 224, 3))\n",
    "for layer in model_base.layers:\n",
    "  layer.trainable = False\n",
    "#model_base.trainable=False\n",
    "\n",
    "data_augmentation = tf.keras.Sequential([\n",
    "  layers.RandomFlip(\"horizontal\",input_shape=(224, 224, 3)),\n",
    "  layers.RandomRotation(0.2),\n",
    "  layers.RandomContrast(0.5),\n",
    "  ])\n",
    "\n",
    "\n",
    "model = keras.Sequential([\n",
    "    # Preprocessing\n",
    "    data_augmentation,\n",
    "    # Base\n",
    "    model_base,\n",
    "    # Head\n",
    "    #layers.Flatten(),\n",
    "    layers.GlobalAveragePooling2D(),\n",
    "    layers.Dense(256, activation='relu'),\n",
    "    #layers.Dropout(0.2),\n",
    "    layers.Dense(7, activation='softmax'),\n",
    "])\n",
    "\n",
    "model.compile(\n",
    "    optimizer=tf.keras.optimizers.Adam(learning_rate=0.001), #0.001\n",
    "    loss=\"categorical_crossentropy\",\n",
    "    metrics=['accuracy'],\n",
    ")\n",
    "model.build(input_shape=(None,224, 224, 3))\n",
    "model.summary()"
   ]
  },
  {
   "cell_type": "code",
   "execution_count": 36,
   "id": "aa2da835-a63a-418d-85e0-b736818ca323",
   "metadata": {},
   "outputs": [
    {
     "name": "stdout",
     "output_type": "stream",
     "text": [
      "You must install pydot (`pip install pydot`) for `plot_model` to work.\n"
     ]
    }
   ],
   "source": [
    "plot_model(model, show_shapes=True, show_layer_names=True,show_layer_activations=True)"
   ]
  },
  {
   "cell_type": "markdown",
   "id": "cffff0ea-77e0-4061-8b4e-2a7c546acd22",
   "metadata": {},
   "source": [
    "Séparation entre train et test"
   ]
  },
  {
   "cell_type": "code",
   "execution_count": 46,
   "id": "b0c05e99-7cad-406d-93cc-193ce9f2c5bb",
   "metadata": {},
   "outputs": [
    {
     "data": {
      "text/plain": [
       "category\n",
       "Kitchen & Dining              105\n",
       "Baby Care                     105\n",
       "Beauty and Personal Care      105\n",
       "Watches                       105\n",
       "Home Decor & Festive Needs    105\n",
       "Computers                     105\n",
       "Home Furnishing               105\n",
       "Name: count, dtype: int64"
      ]
     },
     "execution_count": 46,
     "metadata": {},
     "output_type": "execute_result"
    }
   ],
   "source": [
    "spliter=StratifiedShuffleSplit(train_size=0.70, n_splits=1,random_state=33)\n",
    "train_idx =list(spliter.split(data_img['image'], data_img['category']))[0][0]\n",
    "test_idx=list(spliter.split(data_img['image'], data_img['category']))[0][1]\n",
    "train_files=data_img.loc[train_idx].reset_index(drop=True)\n",
    "test_files=data_img.loc[test_idx].reset_index(drop=True)\n",
    "train_files['category'].value_counts()"
   ]
  },
  {
   "cell_type": "markdown",
   "id": "bafb7f5f-ea3f-4fee-85ec-bec4649e748c",
   "metadata": {},
   "source": [
    "CF documentaion on image_dataset_from_directory"
   ]
  },
  {
   "cell_type": "code",
   "execution_count": 57,
   "id": "4188f4a5-654f-4bf5-8cfc-6c6c3aaba4a7",
   "metadata": {},
   "outputs": [
    {
     "name": "stdout",
     "output_type": "stream",
     "text": [
      "Found 735 files belonging to 7 classes.\n"
     ]
    }
   ],
   "source": [
    "X_train = image_dataset_from_directory(\n",
    "                    directory=\"data/Images_supervised/train/\",\n",
    "                    labels='inferred',\n",
    "                    label_mode='categorical',\n",
    "                    class_names=None,\n",
    "                    image_size=(224, 224),\n",
    "                    shuffle=False\n",
    "                    )"
   ]
  },
  {
   "cell_type": "code",
   "execution_count": 61,
   "id": "d9a2fa25-cd7e-48ba-8d4b-362f8d058bc7",
   "metadata": {},
   "outputs": [
    {
     "name": "stdout",
     "output_type": "stream",
     "text": [
      "Found 161 files belonging to 7 classes.\n"
     ]
    }
   ],
   "source": [
    "X_test = image_dataset_from_directory(\n",
    "                    directory=\"data/Images_supervised/test/\",\n",
    "                    labels='inferred',\n",
    "                    label_mode='categorical',\n",
    "                    class_names=None,\n",
    "                    batch_size=400,\n",
    "                    shuffle=False,\n",
    "                    image_size=(224, 224))"
   ]
  },
  {
   "cell_type": "code",
   "execution_count": 59,
   "id": "a7b7df2b-ab0a-4a39-a914-ed1155ea726c",
   "metadata": {},
   "outputs": [
    {
     "name": "stdout",
     "output_type": "stream",
     "text": [
      "Found 154 files belonging to 7 classes.\n"
     ]
    }
   ],
   "source": [
    "X_val = image_dataset_from_directory(\n",
    "                    directory=\"data/Images_supervised/validation/\",\n",
    "                    labels='inferred',\n",
    "                    label_mode='categorical',\n",
    "                    class_names=None,\n",
    "                    image_size=(224, 224),\n",
    "                    shuffle=False\n",
    "                    )"
   ]
  },
  {
   "cell_type": "markdown",
   "id": "9f1501e3-915b-462c-8815-0c922881f8c8",
   "metadata": {},
   "source": [
    "### Fit et prédiction"
   ]
  },
  {
   "cell_type": "code",
   "execution_count": 63,
   "id": "004fca1f-eb39-4b19-a08b-573e1c832a5f",
   "metadata": {},
   "outputs": [],
   "source": [
    "#define how long to wait before interruption\n",
    "min_improvement=0.001\n",
    "epochs_to_wait=10\n",
    "early_stopping=callbacks.EarlyStopping(monitor='val_loss',\n",
    "                                       min_delta=min_improvement,\n",
    "                                       patience=epochs_to_wait,\n",
    "                                       restore_best_weights=True)"
   ]
  },
  {
   "cell_type": "code",
   "execution_count": 64,
   "id": "09fb0863-5a4e-446e-ad86-a0bb5223db7e",
   "metadata": {},
   "outputs": [
    {
     "name": "stdout",
     "output_type": "stream",
     "text": [
      "Epoch 1/100\n",
      "\u001b[1m23/23\u001b[0m \u001b[32m━━━━━━━━━━━━━━━━━━━━\u001b[0m\u001b[37m\u001b[0m \u001b[1m46s\u001b[0m 2s/step - accuracy: 0.2095 - loss: 14.2977 - val_accuracy: 0.4286 - val_loss: 4.8008\n",
      "Epoch 2/100\n",
      "\u001b[1m23/23\u001b[0m \u001b[32m━━━━━━━━━━━━━━━━━━━━\u001b[0m\u001b[37m\u001b[0m \u001b[1m53s\u001b[0m 2s/step - accuracy: 0.1204 - loss: 8.9808 - val_accuracy: 0.7143 - val_loss: 1.4541\n",
      "Epoch 3/100\n",
      "\u001b[1m23/23\u001b[0m \u001b[32m━━━━━━━━━━━━━━━━━━━━\u001b[0m\u001b[37m\u001b[0m \u001b[1m49s\u001b[0m 2s/step - accuracy: 0.4668 - loss: 2.8215 - val_accuracy: 0.7662 - val_loss: 1.1219\n",
      "Epoch 4/100\n",
      "\u001b[1m23/23\u001b[0m \u001b[32m━━━━━━━━━━━━━━━━━━━━\u001b[0m\u001b[37m\u001b[0m \u001b[1m48s\u001b[0m 2s/step - accuracy: 0.5175 - loss: 1.9478 - val_accuracy: 0.7792 - val_loss: 0.9787\n",
      "Epoch 5/100\n",
      "\u001b[1m23/23\u001b[0m \u001b[32m━━━━━━━━━━━━━━━━━━━━\u001b[0m\u001b[37m\u001b[0m \u001b[1m48s\u001b[0m 2s/step - accuracy: 0.5519 - loss: 1.4692 - val_accuracy: 0.7987 - val_loss: 0.8722\n",
      "Epoch 6/100\n",
      "\u001b[1m23/23\u001b[0m \u001b[32m━━━━━━━━━━━━━━━━━━━━\u001b[0m\u001b[37m\u001b[0m \u001b[1m53s\u001b[0m 2s/step - accuracy: 0.6000 - loss: 1.2658 - val_accuracy: 0.7987 - val_loss: 0.8319\n",
      "Epoch 7/100\n",
      "\u001b[1m23/23\u001b[0m \u001b[32m━━━━━━━━━━━━━━━━━━━━\u001b[0m\u001b[37m\u001b[0m \u001b[1m75s\u001b[0m 2s/step - accuracy: 0.6755 - loss: 1.0383 - val_accuracy: 0.7922 - val_loss: 0.8285\n",
      "Epoch 8/100\n",
      "\u001b[1m23/23\u001b[0m \u001b[32m━━━━━━━━━━━━━━━━━━━━\u001b[0m\u001b[37m\u001b[0m \u001b[1m48s\u001b[0m 2s/step - accuracy: 0.6835 - loss: 0.8553 - val_accuracy: 0.7987 - val_loss: 0.7909\n",
      "Epoch 9/100\n",
      "\u001b[1m23/23\u001b[0m \u001b[32m━━━━━━━━━━━━━━━━━━━━\u001b[0m\u001b[37m\u001b[0m \u001b[1m49s\u001b[0m 2s/step - accuracy: 0.7152 - loss: 0.8078 - val_accuracy: 0.7987 - val_loss: 0.7717\n",
      "Epoch 10/100\n",
      "\u001b[1m23/23\u001b[0m \u001b[32m━━━━━━━━━━━━━━━━━━━━\u001b[0m\u001b[37m\u001b[0m \u001b[1m48s\u001b[0m 2s/step - accuracy: 0.7732 - loss: 0.7102 - val_accuracy: 0.7987 - val_loss: 0.7847\n",
      "Epoch 11/100\n",
      "\u001b[1m23/23\u001b[0m \u001b[32m━━━━━━━━━━━━━━━━━━━━\u001b[0m\u001b[37m\u001b[0m \u001b[1m48s\u001b[0m 2s/step - accuracy: 0.8101 - loss: 0.5677 - val_accuracy: 0.8052 - val_loss: 0.8118\n",
      "Epoch 12/100\n",
      "\u001b[1m23/23\u001b[0m \u001b[32m━━━━━━━━━━━━━━━━━━━━\u001b[0m\u001b[37m\u001b[0m \u001b[1m49s\u001b[0m 2s/step - accuracy: 0.8026 - loss: 0.5695 - val_accuracy: 0.8117 - val_loss: 0.7854\n",
      "Epoch 13/100\n",
      "\u001b[1m23/23\u001b[0m \u001b[32m━━━━━━━━━━━━━━━━━━━━\u001b[0m\u001b[37m\u001b[0m \u001b[1m48s\u001b[0m 2s/step - accuracy: 0.8245 - loss: 0.5045 - val_accuracy: 0.8052 - val_loss: 0.8387\n",
      "Epoch 14/100\n",
      "\u001b[1m23/23\u001b[0m \u001b[32m━━━━━━━━━━━━━━━━━━━━\u001b[0m\u001b[37m\u001b[0m \u001b[1m48s\u001b[0m 2s/step - accuracy: 0.8563 - loss: 0.4605 - val_accuracy: 0.8247 - val_loss: 0.7438\n",
      "Epoch 15/100\n",
      "\u001b[1m23/23\u001b[0m \u001b[32m━━━━━━━━━━━━━━━━━━━━\u001b[0m\u001b[37m\u001b[0m \u001b[1m49s\u001b[0m 2s/step - accuracy: 0.8482 - loss: 0.4799 - val_accuracy: 0.8377 - val_loss: 0.7173\n",
      "Epoch 16/100\n",
      "\u001b[1m23/23\u001b[0m \u001b[32m━━━━━━━━━━━━━━━━━━━━\u001b[0m\u001b[37m\u001b[0m \u001b[1m48s\u001b[0m 2s/step - accuracy: 0.8721 - loss: 0.4074 - val_accuracy: 0.8312 - val_loss: 0.7596\n",
      "Epoch 17/100\n",
      "\u001b[1m23/23\u001b[0m \u001b[32m━━━━━━━━━━━━━━━━━━━━\u001b[0m\u001b[37m\u001b[0m \u001b[1m48s\u001b[0m 2s/step - accuracy: 0.8606 - loss: 0.4393 - val_accuracy: 0.8312 - val_loss: 0.7336\n",
      "Epoch 18/100\n",
      "\u001b[1m23/23\u001b[0m \u001b[32m━━━━━━━━━━━━━━━━━━━━\u001b[0m\u001b[37m\u001b[0m \u001b[1m48s\u001b[0m 2s/step - accuracy: 0.8992 - loss: 0.3239 - val_accuracy: 0.8182 - val_loss: 0.7835\n",
      "Epoch 19/100\n",
      "\u001b[1m23/23\u001b[0m \u001b[32m━━━━━━━━━━━━━━━━━━━━\u001b[0m\u001b[37m\u001b[0m \u001b[1m48s\u001b[0m 2s/step - accuracy: 0.8880 - loss: 0.3517 - val_accuracy: 0.8312 - val_loss: 0.7771\n",
      "Epoch 20/100\n",
      "\u001b[1m23/23\u001b[0m \u001b[32m━━━━━━━━━━━━━━━━━━━━\u001b[0m\u001b[37m\u001b[0m \u001b[1m48s\u001b[0m 2s/step - accuracy: 0.8872 - loss: 0.2685 - val_accuracy: 0.8377 - val_loss: 0.7318\n",
      "Epoch 21/100\n",
      "\u001b[1m23/23\u001b[0m \u001b[32m━━━━━━━━━━━━━━━━━━━━\u001b[0m\u001b[37m\u001b[0m \u001b[1m48s\u001b[0m 2s/step - accuracy: 0.9325 - loss: 0.2222 - val_accuracy: 0.8442 - val_loss: 0.7523\n",
      "Epoch 22/100\n",
      "\u001b[1m23/23\u001b[0m \u001b[32m━━━━━━━━━━━━━━━━━━━━\u001b[0m\u001b[37m\u001b[0m \u001b[1m49s\u001b[0m 2s/step - accuracy: 0.9486 - loss: 0.1917 - val_accuracy: 0.8377 - val_loss: 0.7519\n",
      "Epoch 23/100\n",
      "\u001b[1m23/23\u001b[0m \u001b[32m━━━━━━━━━━━━━━━━━━━━\u001b[0m\u001b[37m\u001b[0m \u001b[1m48s\u001b[0m 2s/step - accuracy: 0.9323 - loss: 0.1865 - val_accuracy: 0.8247 - val_loss: 0.8225\n",
      "Epoch 24/100\n",
      "\u001b[1m23/23\u001b[0m \u001b[32m━━━━━━━━━━━━━━━━━━━━\u001b[0m\u001b[37m\u001b[0m \u001b[1m48s\u001b[0m 2s/step - accuracy: 0.9379 - loss: 0.1988 - val_accuracy: 0.8377 - val_loss: 0.8112\n",
      "Epoch 25/100\n",
      "\u001b[1m23/23\u001b[0m \u001b[32m━━━━━━━━━━━━━━━━━━━━\u001b[0m\u001b[37m\u001b[0m \u001b[1m48s\u001b[0m 2s/step - accuracy: 0.9241 - loss: 0.2237 - val_accuracy: 0.8117 - val_loss: 0.8134\n"
     ]
    }
   ],
   "source": [
    "history=model.fit(X_train,validation_data=X_val,epochs=100,verbose=1,callbacks=[early_stopping])"
   ]
  },
  {
   "cell_type": "markdown",
   "id": "1429192c-dfd8-4743-b03b-a15413d3a50f",
   "metadata": {},
   "source": [
    "It seems that 25 epochs are enough. \\\n",
    "We will limit future testings to 50 epoch max, to ensure no loss, before moving on to optimization \\\n",
    "ATTENTION : early stopped because of a renewal of val_loss ? "
   ]
  },
  {
   "cell_type": "code",
   "execution_count": 65,
   "id": "3e810ace-ca5c-41f4-9d8b-ad49c9c42f1e",
   "metadata": {},
   "outputs": [],
   "source": [
    "history_frame = pd.DataFrame(history.history)"
   ]
  },
  {
   "cell_type": "code",
   "execution_count": 66,
   "id": "f73d855b-8823-486f-9957-34c033539966",
   "metadata": {},
   "outputs": [
    {
     "name": "stderr",
     "output_type": "stream",
     "text": [
      "C:\\Users\\kanam\\anaconda3\\Lib\\site-packages\\seaborn\\_oldcore.py:1119: FutureWarning: use_inf_as_na option is deprecated and will be removed in a future version. Convert inf values to NaN before operating instead.\n",
      "  with pd.option_context('mode.use_inf_as_na', True):\n",
      "C:\\Users\\kanam\\anaconda3\\Lib\\site-packages\\seaborn\\_oldcore.py:1119: FutureWarning: use_inf_as_na option is deprecated and will be removed in a future version. Convert inf values to NaN before operating instead.\n",
      "  with pd.option_context('mode.use_inf_as_na', True):\n",
      "C:\\Users\\kanam\\anaconda3\\Lib\\site-packages\\seaborn\\_oldcore.py:1119: FutureWarning: use_inf_as_na option is deprecated and will be removed in a future version. Convert inf values to NaN before operating instead.\n",
      "  with pd.option_context('mode.use_inf_as_na', True):\n",
      "C:\\Users\\kanam\\anaconda3\\Lib\\site-packages\\seaborn\\_oldcore.py:1119: FutureWarning: use_inf_as_na option is deprecated and will be removed in a future version. Convert inf values to NaN before operating instead.\n",
      "  with pd.option_context('mode.use_inf_as_na', True):\n",
      "C:\\Users\\kanam\\anaconda3\\Lib\\site-packages\\seaborn\\_oldcore.py:1119: FutureWarning: use_inf_as_na option is deprecated and will be removed in a future version. Convert inf values to NaN before operating instead.\n",
      "  with pd.option_context('mode.use_inf_as_na', True):\n",
      "C:\\Users\\kanam\\anaconda3\\Lib\\site-packages\\seaborn\\_oldcore.py:1119: FutureWarning: use_inf_as_na option is deprecated and will be removed in a future version. Convert inf values to NaN before operating instead.\n",
      "  with pd.option_context('mode.use_inf_as_na', True):\n",
      "C:\\Users\\kanam\\anaconda3\\Lib\\site-packages\\seaborn\\_oldcore.py:1119: FutureWarning: use_inf_as_na option is deprecated and will be removed in a future version. Convert inf values to NaN before operating instead.\n",
      "  with pd.option_context('mode.use_inf_as_na', True):\n",
      "C:\\Users\\kanam\\anaconda3\\Lib\\site-packages\\seaborn\\_oldcore.py:1119: FutureWarning: use_inf_as_na option is deprecated and will be removed in a future version. Convert inf values to NaN before operating instead.\n",
      "  with pd.option_context('mode.use_inf_as_na', True):\n"
     ]
    },
    {
     "data": {
      "image/png": "[encoded data removed]",
      "text/plain": [
       "<Figure size 1500x500 with 2 Axes>"
      ]
     },
     "metadata": {},
     "output_type": "display_data"
    }
   ],
   "source": [
    "fig,axs=plt.subplots (1,2,figsize=(15,5))\n",
    "sns.lineplot(history_frame['loss'],label='training',ax=axs[0])\n",
    "sns.lineplot(history_frame['val_loss'],label='validation',ax=axs[0])\n",
    "\n",
    "sns.lineplot(history_frame['accuracy'],label='training',ax=axs[1])\n",
    "sns.lineplot(history_frame['val_accuracy'],label='validation',ax=axs[1])\n",
    "plt.suptitle('Loss and accuracy by epoch :\\n LR='+str(model.optimizer.learning_rate.numpy())+\" / min delta=\"+str(min_improvement)+\" / patience=\"+str(epochs_to_wait))\n",
    "plt.show()"
   ]
  }
 ],
 "metadata": {
  "kernelspec": {
   "display_name": "Python 3 (ipykernel)",
   "language": "python",
   "name": "python3"
  },
  "language_info": {
   "codemirror_mode": {
    "name": "ipython",
    "version": 3
   },
   "file_extension": ".py",
   "mimetype": "text/x-python",
   "name": "python",
   "nbconvert_exporter": "python",
   "pygments_lexer": "ipython3",
   "version": "3.11.5"
  }
 },
 "nbformat": 4,
 "nbformat_minor": 5
}
